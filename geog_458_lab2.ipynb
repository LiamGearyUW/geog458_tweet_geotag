{
  "nbformat": 4,
  "nbformat_minor": 0,
  "metadata": {
    "colab": {
      "name": "geog_458_lab2.ipynb",
      "provenance": []
    },
    "kernelspec": {
      "name": "python3",
      "display_name": "Python 3"
    },
    "language_info": {
      "name": "python"
    }
  },
  "cells": [
    {
      "cell_type": "code",
      "source": [
        "import tweepy, json, time\n",
        "import pandas as pd\n",
        "from google.colab import files\n",
        "# Create data on to Google Drive\n",
        "from google.colab import drive\n",
        "# Mount your Drive to the Colab VM.\n",
        "drive.mount('/gdrive')"
      ],
      "metadata": {
        "id": "zqFm5JVz9bte",
        "colab": {
          "base_uri": "https://localhost:8080/"
        },
        "outputId": "d6429a49-7b62-4699-a2b6-0741d8157a8e"
      },
      "execution_count": 1,
      "outputs": [
        {
          "output_type": "stream",
          "name": "stdout",
          "text": [
            "Mounted at /gdrive\n"
          ]
        }
      ]
    },
    {
      "cell_type": "code",
      "source": [
        "class StreamListener(tweepy.StreamListener):\n",
        "    \"\"\"tweepy.StreamListener is a class provided by tweepy used to access\n",
        "    the Twitter Streaming API to collect tweets in real-time.\n",
        "    \"\"\"\n",
        "\n",
        "    def __init__(self, time_limit=60, file=\"\"):\n",
        "        \"\"\"class initialization\"\"\"\n",
        "        self.start_time = time.time()\n",
        "        self.limit = time_limit\n",
        "        self.result = []\n",
        "        self.f = file\n",
        "        super(StreamListener, self).__init__()\n",
        "\n",
        "    def on_data(self, data):\n",
        "        \"\"\"This is called when data are streamed in.\"\"\"\n",
        "        if (time.time() - self.start_time) < self.limit:\n",
        "            datajson = json.loads(data)\n",
        "            # print(datajson, \"\\n\")\n",
        "            if 'id' not in datajson.keys():\n",
        "                time.sleep(10)\n",
        "            else:\n",
        "                id = datajson['id']\n",
        "                username = datajson['user']['screen_name']\n",
        "                created_at = datajson['created_at']\n",
        "                text = datajson['text'].strip().replace(\"\\n\", \"\")\n",
        "\n",
        "                # process the geo-tags\n",
        "                if datajson['coordinates'] == None:\n",
        "                    try:\n",
        "                        bbox = datajson['place']['bounding_box']['coordinates'][0]\n",
        "                        lng = (bbox[0][0] + bbox[2][0]) / 2.0\n",
        "                        lat = (bbox[0][1] + bbox[1][1]) / 2.0\n",
        "                    except:\n",
        "                        lat = 0\n",
        "                        lng = 0\n",
        "                else:\n",
        "                    lng = datajson['coordinates']['coordinates'][0]\n",
        "                    lat = datajson['coordinates']['coordinates'][1]\n",
        "\n",
        "                if lat != 0:\n",
        "                    row = {\n",
        "                        'id': id,\n",
        "                        'username': username,\n",
        "                        'created_at': created_at,\n",
        "                        'lng': lng,\n",
        "                        'lat': lat,\n",
        "                        'text': text\n",
        "                    }\n",
        "                    print(row)\n",
        "                    self.result.append(row)\n",
        "                else:\n",
        "                    pass\n",
        "        else:\n",
        "            df = pd.DataFrame(self.result)\n",
        "            df.to_csv(self.f, index=False)\n",
        "            # download the csv to your local computer\n",
        "            files.download(self.f)\n",
        "            print(\"the csv has been downloaded to your local computer. The program has been completed successfully.\")\n",
        "            return False"
      ],
      "metadata": {
        "id": "eaHRw-an9ef7"
      },
      "execution_count": 2,
      "outputs": []
    },
    {
      "cell_type": "code",
      "source": [
        "if __name__ == \"__main__\":\n",
        "    # These are provided to you through the Twitter API after you create a account\n",
        "    # register a Twitter App to get the keys and access tokens.\n",
        "    output_file = '/gdrive/My Drive/geotweets.csv'\n",
        "\n",
        "    # Apply for your own Twitter API keys at https://developer.twitter.com/en/apply-for-access\n",
        "    consumer_key = \"lypguANrlocwapeIEhWYKKhWM\"\n",
        "    consumer_secret = \"ltarjR26uAQ7ZdV858GK5tbzNxDQuTb4eKTDef24lhHgcYK8XD\"\n",
        "    access_token = \"1516939692708548608-7JQBSsV54rjKjX8TBuWGhls9LBF7oe\"\n",
        "    access_token_secret = \"dzDKfcC34wThU0zb1c13Vru5fB4Fny8RG9atFGD7bYevS\"\n",
        "\n",
        "    myauth = tweepy.OAuthHandler(consumer_key, consumer_secret)\n",
        "    myauth.set_access_token(access_token, access_token_secret)\n",
        "\n",
        "    # LOCATIONS are the longitude, latitude coordinate corners for a box that restricts the\n",
        "    # geographic area from which you will stream tweets. The first two define the southwest\n",
        "    # corner of the box and the second two define the northeast corner of the box.\n",
        "    LOCATIONS = [-124.521822, 45.661688, -117.032350, 48.999213,    # WA\n",
        "                 -73.473629, 41.042289, -69.882444, 42.632089]      # MA, CT, RI\n",
        "\n",
        "    stream_listener = StreamListener(time_limit=1200, file=output_file)\n",
        "    stream = tweepy.Stream(auth=myauth, listener=stream_listener)\n",
        "    stream.filter(locations=LOCATIONS, languages=['en'], encoding=\"utf-8\")"
      ],
      "metadata": {
        "id": "yOTx9gL99gxX",
        "colab": {
          "base_uri": "https://localhost:8080/",
          "height": 731
        },
        "outputId": "50249aff-c817-46bd-b53d-b8e3e7dc9fc8"
      },
      "execution_count": 4,
      "outputs": [
        {
          "output_type": "stream",
          "name": "stdout",
          "text": [
            "{'id': 1517214780658012161, 'username': 'JahJukeMPMG', 'created_at': 'Thu Apr 21 18:52:46 +0000 2022', 'lng': -122.3308, 'lat': 47.6046, 'text': 'Just posted a photo @ Seattle, Washington https://t.co/sTskeIHZdn'}\n",
            "{'id': 1517214811729240064, 'username': 'ArturoEdvardsen', 'created_at': 'Thu Apr 21 18:52:54 +0000 2022', 'lng': -122.149768, 'lat': 47.5978565, 'text': '@elonmusk Would love to work for one of your companies Elon.'}\n",
            "{'id': 1517214833594167296, 'username': 'NotThatChickNan', 'created_at': 'Thu Apr 21 18:52:59 +0000 2022', 'lng': -120.882482, 'lat': 47.273022, 'text': '@Currtis25Harr *sitting with my husband and getting mad and I’m like wow the audacity right here it’s so much I’m actually angry'}\n",
            "{'id': 1517214928481923072, 'username': 'ArturoEdvardsen', 'created_at': 'Thu Apr 21 18:53:22 +0000 2022', 'lng': -122.149768, 'lat': 47.5978565, 'text': '@RetroTechNoir Hell yes.'}\n",
            "{'id': 1517214992763809793, 'username': 'ParaguayBeauty', 'created_at': 'Thu Apr 21 18:53:37 +0000 2022', 'lng': -117.434547, 'lat': 47.667438, 'text': 'This week.. 🖕🏽 https://t.co/5QFoiDQ1Sx'}\n",
            "{'id': 1517215040503312385, 'username': 'mybabelproject', 'created_at': 'Thu Apr 21 18:53:48 +0000 2022', 'lng': -122.314612, 'lat': 47.126127, 'text': 'A sniper sets his site hidden in plain sight he leaves no shell spent or blade of grass bent. His wake leaves no mi… https://t.co/GXg6nr6ePK'}\n",
            "{'id': 1517215080613515264, 'username': 'fey_geller', 'created_at': 'Thu Apr 21 18:53:58 +0000 2022', 'lng': -122.5889745, 'lat': 45.630589, 'text': \"@LetOregonLearn @TheDemocrats I wasn't state/edu raised product. Motherhood was a high calling, the most honored pr… https://t.co/GankEtyBmB\"}\n",
            "{'id': 1517215082375131136, 'username': 'chansesyres', 'created_at': 'Thu Apr 21 18:53:58 +0000 2022', 'lng': -120.58340150000001, 'lat': 44.1454365, 'text': 'Contact me. https://t.co/TYsEo8axpn'}\n",
            "{'id': 1517215092340781056, 'username': 'RTerlep', 'created_at': 'Thu Apr 21 18:54:01 +0000 2022', 'lng': -122.923516, 'lat': 47.064528, 'text': 'Ah, yes. The Midwest spring I’ve been feeling nostalgic for 🙃 https://t.co/CRv42vLDx3'}\n",
            "{'id': 1517215102927347712, 'username': 'SammyParise', 'created_at': 'Thu Apr 21 18:54:03 +0000 2022', 'lng': -122.36132351, 'lat': 47.7822559, 'text': \"Ahhhh!!!!! LET'S DO IT AGAIN!!#setitoff #setitoffband #welcometoelsewhere #welcome2elsewhere #elsewhere @setitoff… https://t.co/Ql47p2U14V\"}\n",
            "{'id': 1517215140516536320, 'username': 'NotThatChickNan', 'created_at': 'Thu Apr 21 18:54:12 +0000 2022', 'lng': -120.882482, 'lat': 47.273022, 'text': '@Currtis25Harr And my husband was like “you’re going to move out of your parents house to go be some toy for some d… https://t.co/c62kHtiAoC'}\n",
            "{'id': 1517215194388131840, 'username': 'tmj_WAT_skltrd', 'created_at': 'Thu Apr 21 18:54:25 +0000 2022', 'lng': -122.518458, 'lat': 47.1717649, 'text': 'Have you ever had a role like \"Lot Attendant\"? What did you like most about that job? #SkilledTrade #Lakewood, Washington'}\n",
            "{'id': 1517215219264618496, 'username': 'djshort89', 'created_at': 'Thu Apr 21 18:54:31 +0000 2022', 'lng': -122.3306025, 'lat': 47.614817, 'text': \"@kam2D My uncle would've appreciated this.\"}\n",
            "{'id': 1517215268912607232, 'username': 'TravisMayfield', 'created_at': 'Thu Apr 21 18:54:43 +0000 2022', 'lng': -122.3306025, 'lat': 47.614817, 'text': '@adamrclemons Being active is hard in the tv business.  So good for you and for Maxie for helping.  It’s all about… https://t.co/TFo44AnVGC'}\n",
            "{'id': 1517215344187756545, 'username': 'HailYourselfFC', 'created_at': 'Thu Apr 21 18:55:01 +0000 2022', 'lng': -122.6692365, 'lat': 47.5618015, 'text': '@KyivIndependent The thing that gets me is that Russia is so blanton about it because they know the rest of the wor… https://t.co/u1r5pQJsGS'}\n",
            "{'id': 1517215367881318400, 'username': 'kunleilupeju', 'created_at': 'Thu Apr 21 18:55:06 +0000 2022', 'lng': -123.480062, 'lat': 48.426763, 'text': 'Well… https://t.co/KSZM5gqAPV'}\n",
            "{'id': 1517215384398491648, 'username': 'My520Agent', 'created_at': 'Thu Apr 21 18:55:10 +0000 2022', 'lng': -122.923516, 'lat': 47.064528, 'text': '@StephenAtHome Get better soon!'}\n",
            "{'id': 1517215419920097281, 'username': 'MrBurks206', 'created_at': 'Thu Apr 21 18:55:19 +0000 2022', 'lng': -122.334461, 'lat': 47.307568, 'text': 'What happened to my guy @AdrianMarcel510? That GMFU album was 🔥🔥🔥!!'}\n",
            "{'id': 1517215428166123520, 'username': 'SKCFDispatches', 'created_at': 'Thu Apr 21 18:55:21 +0000 2022', 'lng': -122.087073, 'lat': 47.3433258, 'text': '🚑DISPATCH: Medical Aid - Basic Life Support @ 28809 191ST PL SE, KENT.Responding Dept: District #44Unit(s): A398#MVfireWA #MapleValley'}\n",
            "{'id': 1517215444473565184, 'username': 'tmj_WAT_NURSING', 'created_at': 'Thu Apr 21 18:55:25 +0000 2022', 'lng': -122.3320708, 'lat': 47.6062095, 'text': 'Your expertise is needed to provide quality patient care to the Seattle, WA community. Click here to learn more abo… https://t.co/IchRqi4y52'}\n",
            "{'id': 1517215490296270848, 'username': 'mybabelproject', 'created_at': 'Thu Apr 21 18:55:36 +0000 2022', 'lng': -122.314612, 'lat': 47.126127, 'text': 'A sniper sets his site hidden in plain sight he leaves no shell spent or blade of grass bent. His wake leaves no mi… https://t.co/DWnQbm6cB0'}\n",
            "{'id': 1517215519790669826, 'username': 'chansesyres', 'created_at': 'Thu Apr 21 18:55:43 +0000 2022', 'lng': -120.58340150000001, 'lat': 44.1454365, 'text': 'Weed has been legal for 10 year, yet they still discriminate.'}\n",
            "{'id': 1517215541336756224, 'username': 'FordisFaded', 'created_at': 'Thu Apr 21 18:55:48 +0000 2022', 'lng': -123.3583795, 'lat': 48.4267305, 'text': 'Calling all sneakerheads. What’s in your current rotation/shoe rack? https://t.co/j4ACYz6qLA'}\n",
            "{'id': 1517215545937915904, 'username': 'Demigorn', 'created_at': 'Thu Apr 21 18:55:49 +0000 2022', 'lng': -117.24787549999999, 'lat': 47.630038, 'text': '@LunaLaVinci Omg... I hated that. 😒'}\n",
            "{'id': 1517215558973878272, 'username': 'KingZachRenn', 'created_at': 'Thu Apr 21 18:55:52 +0000 2022', 'lng': -122.4269055, 'lat': 47.0895845, 'text': '@YutyTyrant Let’s make it canon'}\n",
            "{'id': 1517215574312382464, 'username': 'RevAnttimo', 'created_at': 'Thu Apr 21 18:55:56 +0000 2022', 'lng': -122.3306025, 'lat': 47.614817, 'text': '@DrKLClemons I’m just looking, ain’t anything finalized lol 😂'}\n",
            "{'id': 1517215592201084928, 'username': 'Dragonfire1965', 'created_at': 'Thu Apr 21 18:56:00 +0000 2022', 'lng': -122.194398, 'lat': 47.481598, 'text': '@benyahr It is delightful is what it is.'}\n",
            "{'id': 1517215602384977924, 'username': 'Herronisland', 'created_at': 'Thu Apr 21 18:56:02 +0000 2022', 'lng': -120.882482, 'lat': 47.273022, 'text': '@Cgirl69731864 Government agencies almost always have guidance from attorney/employees who specialize in rule-makin… https://t.co/MqNLujzZzU'}\n",
            "{'id': 1517215700682567680, 'username': 'ImJustHereSoI18', 'created_at': 'Thu Apr 21 18:56:26 +0000 2022', 'lng': -122.9352255, 'lat': 46.971318499999995, 'text': 'DBZ westerner 😂'}\n",
            "{'id': 1517215738221654017, 'username': 'chansesyres', 'created_at': 'Thu Apr 21 18:56:35 +0000 2022', 'lng': -120.58340150000001, 'lat': 44.1454365, 'text': '\"Marijuana\" has been legal for 10 years, yet, they still discriminate.'}\n",
            "{'id': 1517215745767211008, 'username': 'HailYourselfFC', 'created_at': 'Thu Apr 21 18:56:36 +0000 2022', 'lng': -122.6692365, 'lat': 47.5618015, 'text': '@KyivIndependent And Russias defense will be \"no we didn\\'t\" while committing another atrocity.'}\n",
            "{'id': 1517215813689769984, 'username': 'ArturoEdvardsen', 'created_at': 'Thu Apr 21 18:56:53 +0000 2022', 'lng': -122.149768, 'lat': 47.5978565, 'text': '@elonmusk You should pair Twitter with #SAFEMOON blockchain. Would result in a trillion+ valuation within 5 years.'}\n",
            "{'id': 1517215880651821056, 'username': 'chansesyres', 'created_at': 'Thu Apr 21 18:57:09 +0000 2022', 'lng': -120.58340150000001, 'lat': 44.1454365, 'text': 'What are your best methods for coping with stress?Go.'}\n",
            "{'id': 1517215896023883776, 'username': 'BoltCuddy', 'created_at': 'Thu Apr 21 18:57:12 +0000 2022', 'lng': -120.882482, 'lat': 47.273022, 'text': '@CycleInvestor I’m still up 100+%. So they can kiss my a$$. Not getting my uranium shares. 😝'}\n",
            "{'id': 1517215902571261952, 'username': 'SmokeAGeoffrey', 'created_at': 'Thu Apr 21 18:57:14 +0000 2022', 'lng': -122.205946, 'lat': 47.773496, 'text': \"Can't trust them mexicans\"}\n",
            "{'id': 1517215947555164160, 'username': 'tmj_wa_eng', 'created_at': 'Thu Apr 21 18:57:25 +0000 2022', 'lng': -122.3320708, 'lat': 47.6062095, 'text': 'Join the Tetra Tech team! See our latest Engineering job openings, including \"Electrical Engineer, PE-Northwest\", v… https://t.co/Axzoh5x00j'}\n",
            "{'id': 1517215947924201473, 'username': 'chriswarden420', 'created_at': 'Thu Apr 21 18:57:25 +0000 2022', 'lng': -123.370838, 'lat': 48.496225499999994, 'text': \"@AllEliteDoug21 @DWilson_1990 After this trial is over I honestly don't see Amber Heard getting much work in the fu… https://t.co/19TddcK46N\"}\n",
            "{'id': 1517215964831485957, 'username': 'MorgBGreat', 'created_at': 'Thu Apr 21 18:57:29 +0000 2022', 'lng': -122.3306025, 'lat': 47.614817, 'text': 'Most effective rebrand I’ve ever witnessed. Appreciate his a skill and talent. I’ll never love him as much as eve… https://t.co/wJOuNgNOXe'}\n",
            "{'id': 1517216006095052800, 'username': 'MrBurks206', 'created_at': 'Thu Apr 21 18:57:39 +0000 2022', 'lng': -122.334461, 'lat': 47.307568, 'text': 'What happened to my guy @AdrianMarcel510? The GMFU and 98th albums were 🔥🔥🔥!!'}\n"
          ]
        },
        {
          "output_type": "display_data",
          "data": {
            "text/plain": [
              "<IPython.core.display.Javascript object>"
            ],
            "application/javascript": [
              "\n",
              "    async function download(id, filename, size) {\n",
              "      if (!google.colab.kernel.accessAllowed) {\n",
              "        return;\n",
              "      }\n",
              "      const div = document.createElement('div');\n",
              "      const label = document.createElement('label');\n",
              "      label.textContent = `Downloading \"${filename}\": `;\n",
              "      div.appendChild(label);\n",
              "      const progress = document.createElement('progress');\n",
              "      progress.max = size;\n",
              "      div.appendChild(progress);\n",
              "      document.body.appendChild(div);\n",
              "\n",
              "      const buffers = [];\n",
              "      let downloaded = 0;\n",
              "\n",
              "      const channel = await google.colab.kernel.comms.open(id);\n",
              "      // Send a message to notify the kernel that we're ready.\n",
              "      channel.send({})\n",
              "\n",
              "      for await (const message of channel.messages) {\n",
              "        // Send a message to notify the kernel that we're ready.\n",
              "        channel.send({})\n",
              "        if (message.buffers) {\n",
              "          for (const buffer of message.buffers) {\n",
              "            buffers.push(buffer);\n",
              "            downloaded += buffer.byteLength;\n",
              "            progress.value = downloaded;\n",
              "          }\n",
              "        }\n",
              "      }\n",
              "      const blob = new Blob(buffers, {type: 'application/binary'});\n",
              "      const a = document.createElement('a');\n",
              "      a.href = window.URL.createObjectURL(blob);\n",
              "      a.download = filename;\n",
              "      div.appendChild(a);\n",
              "      a.click();\n",
              "      div.remove();\n",
              "    }\n",
              "  "
            ]
          },
          "metadata": {}
        },
        {
          "output_type": "display_data",
          "data": {
            "text/plain": [
              "<IPython.core.display.Javascript object>"
            ],
            "application/javascript": [
              "download(\"download_52dbfb31-2a8a-420d-8593-87e5bd8401c5\", \"geotweets.csv\", 7040)"
            ]
          },
          "metadata": {}
        },
        {
          "output_type": "stream",
          "name": "stdout",
          "text": [
            "the csv has been downloaded to your local computer. The program has been completed successfully.\n"
          ]
        }
      ]
    }
  ]
}